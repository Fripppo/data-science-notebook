{
 "cells": [
  {
   "cell_type": "markdown",
   "id": "5a00a33f-0c50-4340-b728-1cf54b9eb3f5",
   "metadata": {},
   "source": [
    "# Data Science Tools and Ecosystem"
   ]
  },
  {
   "cell_type": "markdown",
   "id": "4918ee42-e81c-45db-b51a-10a31db9fac8",
   "metadata": {},
   "source": [
    "In this notebook, Data Science Tools and Ecosystem are summarized."
   ]
  },
  {
   "cell_type": "markdown",
   "id": "81a67cb5-fd27-47a8-8b0d-90a3699759cb",
   "metadata": {},
   "source": [
    "**Objectives:**"
   ]
  },
  {
   "cell_type": "markdown",
   "id": "2a0bb8f1-dd13-4a88-a6ae-5d5f3d012161",
   "metadata": {},
   "source": [
    "- List popular languages for Data Science\n",
    "- List commonly used libraries in Data Science\n",
    "- Give examples of arithmetic expressions\n",
    "- Give examples of math in python\n",
    "- Transform hours into minutes"
   ]
  },
  {
   "cell_type": "markdown",
   "id": "0d313b9e-07c5-46f6-afb7-23a2c14c0484",
   "metadata": {},
   "source": [
    "Some of the popular languages that Data Scientists use are:\n",
    "1. Python\n",
    "2. R\n",
    "3. Julia"
   ]
  },
  {
   "cell_type": "markdown",
   "id": "f4eddeb9-24c8-43c0-a775-de4b2d59ec76",
   "metadata": {},
   "source": [
    "Some of the commonly used libraries used by Data Scientists include:\n",
    "1. matplotlib\n",
    "2. pandas\n",
    "3. pytorch"
   ]
  },
  {
   "cell_type": "markdown",
   "id": "ce3e735a-bc32-492d-9b27-6ee1058f8752",
   "metadata": {
    "jupyter": {
     "source_hidden": true
    }
   },
   "source": [
    "|Data Science Tools|\n",
    "|------------------|\n",
    "|JupyterLab|\n",
    "|RStudio IDE|\n",
    "|Apache Spark|"
   ]
  },
  {
   "cell_type": "markdown",
   "id": "65f65e38-2da9-4d49-ac65-a3753fb5a27f",
   "metadata": {},
   "source": [
    "### Below are a few examples of evaluating arithmetic expressions in Python.\n",
    "\n"
   ]
  },
  {
   "cell_type": "markdown",
   "id": "1afbeaec-0c57-41af-9355-a7d548a3c641",
   "metadata": {},
   "source": [
    "This a simple arithmetic expression to mutiply then add integers"
   ]
  },
  {
   "cell_type": "code",
   "execution_count": 1,
   "id": "83bda778-8491-4eff-b519-10f1a62bfc30",
   "metadata": {},
   "outputs": [
    {
     "data": {
      "text/plain": [
       "17"
      ]
     },
     "execution_count": 1,
     "metadata": {},
     "output_type": "execute_result"
    }
   ],
   "source": [
    "(3*4)+5"
   ]
  },
  {
   "cell_type": "markdown",
   "id": "687cc95a-02a7-48e2-a501-91e2b8b9c94f",
   "metadata": {},
   "source": [
    "This will convert 200 minutes to hours by diving by 60"
   ]
  },
  {
   "cell_type": "code",
   "execution_count": 4,
   "id": "35d2d48f-bb82-4bee-b222-7bcb234a87c8",
   "metadata": {},
   "outputs": [
    {
     "data": {
      "text/plain": [
       "3.3333333333333335"
      ]
     },
     "execution_count": 4,
     "metadata": {},
     "output_type": "execute_result"
    }
   ],
   "source": [
    "minutes = 200\n",
    "hours = minutes/60\n",
    "hours"
   ]
  },
  {
   "cell_type": "markdown",
   "id": "a17f9587-db81-4e78-8d26-94df3eac2f3f",
   "metadata": {},
   "source": [
    "## Author\n",
    "Ciro Gatti"
   ]
  },
  {
   "cell_type": "code",
   "execution_count": null,
   "id": "f2cc5710-0031-40a2-855c-525c48066121",
   "metadata": {},
   "outputs": [],
   "source": []
  }
 ],
 "metadata": {
  "kernelspec": {
   "display_name": "Python 3 (ipykernel)",
   "language": "python",
   "name": "python3"
  },
  "language_info": {
   "codemirror_mode": {
    "name": "ipython",
    "version": 3
   },
   "file_extension": ".py",
   "mimetype": "text/x-python",
   "name": "python",
   "nbconvert_exporter": "python",
   "pygments_lexer": "ipython3",
   "version": "3.12.8"
  }
 },
 "nbformat": 4,
 "nbformat_minor": 5
}
